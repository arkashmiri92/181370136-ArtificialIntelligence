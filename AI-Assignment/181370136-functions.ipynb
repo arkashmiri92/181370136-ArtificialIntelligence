{
 "cells": [
  {
   "cell_type": "markdown",
   "id": "5ee4e1a2",
   "metadata": {},
   "source": [
    "# Write a function named manhattan_distance to compute Manhattan Distance between two\n",
    "points: [2.5]\n",
    "|𝑥1 − 𝑥2\n",
    "| + |𝑦1 − 𝑦2\n",
    "|"
   ]
  },
  {
   "cell_type": "code",
   "execution_count": 1,
   "id": "91845a92",
   "metadata": {},
   "outputs": [
    {
     "name": "stdout",
     "output_type": "stream",
     "text": [
      "2\n"
     ]
    }
   ],
   "source": [
    "import math\n",
    "\n",
    "def distance(x1,x2,y1,y2):\n",
    "\tprint(abs(x1-x2)+abs(y1-y2))\n",
    "   \n",
    "distance(1,2,3,4)\n"
   ]
  },
  {
   "cell_type": "markdown",
   "id": "5588a541",
   "metadata": {},
   "source": [
    "# Write a function named euclidian_distance to compute Euclidian Distance between two points:\n",
    "[2.5]\n",
    "√(𝑥2 − 𝑥1\n",
    ")\n",
    "2 + (𝑦2 − 𝑦1\n",
    ")\n",
    "2"
   ]
  },
  {
   "cell_type": "code",
   "execution_count": 2,
   "id": "acc7a4cf",
   "metadata": {},
   "outputs": [
    {
     "name": "stdout",
     "output_type": "stream",
     "text": [
      "1.4142135623730951\n"
     ]
    }
   ],
   "source": [
    "def ecu_d(x1,x2,y1,y2):\n",
    "\tprint(math.sqrt(abs((x2-x1)**2)+(y2-y1)**2))\n",
    "    \n",
    "ecu_d(1,2,3,4)"
   ]
  },
  {
   "cell_type": "markdown",
   "id": "fbd4c1c4",
   "metadata": {},
   "source": [
    "# Pangram string is a string which contains every letter of the alphabet at least once. For example,\n",
    "“The quick brown fox jumps over the lazy dog” is a pangram. Write a function named\n",
    "is_pangram that accepts a string and returns true if the string is pangram otherwise returns\n",
    "false"
   ]
  },
  {
   "cell_type": "code",
   "execution_count": 6,
   "id": "e2d39ff8",
   "metadata": {},
   "outputs": [
    {
     "name": "stdout",
     "output_type": "stream",
     "text": [
      "Pangram Not Found\n"
     ]
    }
   ],
   "source": [
    "def is_pangram(string):\n",
    "\n",
    "\tif 'a' in string and 'b' in string and 'c' in string and 'd' in string and 'e' in string and 'f' in string and 'g' in string and 'h' in string and 'i' in string and 'j' in string and 'k' in string and 'l' in string and 'm' in string and 'n' in string and 'o' in string and 'p' in string and 'q' in string and 'r' in string and 's' in string and 't' in string and 'u' in string and 'v' in string and 'w' in string and 'x' in string and 'y' in string and 'z':\n",
    "\t\tprint(\"Pangram Sentence Found\")\n",
    "\n",
    "\telse:\n",
    "\t\tprint(\"Pangram Not Found\")\t\n",
    "        \n",
    "is_pangram(\"Jump from the roof\")\n"
   ]
  },
  {
   "cell_type": "markdown",
   "id": "5d796c94",
   "metadata": {},
   "source": [
    "# Suppose that you are working on a financial application for Bank of Gujranwala. The financial\n",
    "application contains a module related to investments and returns. Your project manager\n",
    "assigned you the task of writing this module. For this task, you will write a simple .py file using any editor of your choice. However, Spyder is recommended. Name the file as\n",
    "financemodule.py and place this file in the same directory that contains your notebook. You are\n",
    "required to write the following functions: [10]\n",
    "a. interest_monthly that accepts two arguments named balance and\n",
    "annual_interest_rate. Interest on the next monthly payment can be calculated\n",
    "as:\n",
    "𝑖𝑛𝑡𝑒𝑟𝑒𝑠𝑡 = 𝑏𝑎𝑙𝑎𝑛𝑐𝑒 × (\n",
    "𝑎𝑛𝑛𝑢𝑎𝑙 𝑖𝑛𝑡𝑒𝑟𝑒𝑠𝑡 𝑟𝑎𝑡𝑒\n",
    "1200 )\n",
    "b. future_investment_value that accepts three arguments named\n",
    "investment_amount, monthly_interest_rate, and number_of_years.\n",
    "Following formula can be used to calculate the future value:\n",
    "𝑓𝑢𝑡𝑢𝑟𝑒𝑉𝑎𝑙 =\n",
    "𝐼𝑛𝑣𝑒𝑠𝑡𝑚𝑒𝑛𝑡𝐴𝑚𝑜𝑢𝑛𝑡 × (1 + 𝑀𝑜𝑛𝑡ℎ𝑙𝑦𝐼𝑛𝑡𝑒𝑟𝑒𝑠𝑡𝑅𝑎𝑡𝑒 )\n",
    "𝑛𝑢𝑚𝑏𝑒𝑟𝑜𝑓𝑦𝑒𝑎𝑟𝑠 ∗ 12\n",
    " After creating the module, next step is to import the module in your Jupyter Notebook file.\n",
    "Given below is a sample for importing and using your module:\n"
   ]
  },
  {
   "cell_type": "code",
   "execution_count": null,
   "id": "555f5f71",
   "metadata": {},
   "outputs": [],
   "source": [
    "import financemodule as fm\n",
    "\n",
    "blnc = float(input(\"Enter balance :\"))\n",
    "\n",
    "annualrate = int(input(\"Enter Annual Intrest Rate :\"))\n",
    "\n",
    "interest = fm.intrest_monthly(balance,annualrate)\n",
    "\n",
    "print(\"Monthly Intrest : \",interest)\n",
    "\n"
   ]
  },
  {
   "cell_type": "code",
   "execution_count": 2,
   "id": "3da49ed1",
   "metadata": {},
   "outputs": [
    {
     "name": "stdout",
     "output_type": "stream",
     "text": [
      "Enter amount :54\n",
      "Enter rate :34\n",
      "Enter years :2\n",
      "investment_val_fut : 793800\n"
     ]
    }
   ],
   "source": [
    "import financemodule as fm\n",
    "\n",
    "amount = int(input(\"Enter amount :\"))\n",
    "\n",
    "rate = int(input(\"Enter rate :\"))\n",
    "\n",
    "years = int(input(\"Enter years :\"))\n",
    "\n",
    "future_income = fm.future_investment_value(amount,rate,years)\n",
    " \n",
    "print(\"investment_val_fut :\",future_income)\n"
   ]
  },
  {
   "cell_type": "code",
   "execution_count": null,
   "id": "5726c728",
   "metadata": {},
   "outputs": [],
   "source": []
  }
 ],
 "metadata": {
  "kernelspec": {
   "display_name": "Python 3",
   "language": "python",
   "name": "python3"
  },
  "language_info": {
   "codemirror_mode": {
    "name": "ipython",
    "version": 3
   },
   "file_extension": ".py",
   "mimetype": "text/x-python",
   "name": "python",
   "nbconvert_exporter": "python",
   "pygments_lexer": "ipython3",
   "version": "3.8.8"
  }
 },
 "nbformat": 4,
 "nbformat_minor": 5
}
