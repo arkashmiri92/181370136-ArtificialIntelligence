{
 "cells": [
  {
   "cell_type": "code",
   "execution_count": 1,
   "id": "e8a65fed",
   "metadata": {},
   "outputs": [
    {
     "name": "stdout",
     "output_type": "stream",
     "text": [
      "{'CS-101': '3004', 'CS-102': '4501', 'CS-103': '6755', 'NT110': '1411', 'CM241': '1411'}\n"
     ]
    }
   ],
   "source": [
    "course_meet = {'CS-101':'3004','CS-102':'4501','CS-103':'6755','NT110':'1411','CM241':'1411'}\n",
    "print(course_meet)\n",
    "\n",
    "course_meet1 = {'CS-101':'Haynes','CS-102':'Alvarado','CS-103':'Rich','NT110':'Burke','CM241':'Lee'}\n",
    "print(course_meet1)\n",
    "\n",
    "course_meet2 = {'CS-101':'8:00 a.m','CS-102':'9:00 a.m','CS-103':'10:00 a.m','NT110':'11:00 a.m','CM241':'12:00 p.m'}\n",
    "print(course_meet2)"
   ]
  }
 ],
 "metadata": {
  "kernelspec": {
   "display_name": "Python 3",
   "language": "python",
   "name": "python3"
  },
  "language_info": {
   "codemirror_mode": {
    "name": "ipython",
    "version": 3
   },
   "file_extension": ".py",
   "mimetype": "text/x-python",
   "name": "python",
   "nbconvert_exporter": "python",
   "pygments_lexer": "ipython3",
   "version": "3.8.8"
  }
 },
 "nbformat": 4,
 "nbformat_minor": 5
}
