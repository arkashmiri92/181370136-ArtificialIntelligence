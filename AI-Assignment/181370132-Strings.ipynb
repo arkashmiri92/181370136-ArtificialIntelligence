{
 "cells": [
  {
   "cell_type": "code",
   "execution_count": null,
   "id": "6a86eb8a",
   "metadata": {},
   "outputs": [],
   "source": []
  },
  {
   "cell_type": "code",
   "execution_count": null,
   "id": "04c6d5a8",
   "metadata": {},
   "outputs": [],
   "source": []
  },
  {
   "cell_type": "code",
   "execution_count": 1,
   "id": "a23f8bdd",
   "metadata": {},
   "outputs": [],
   "source": [
    "#STRINGS"
   ]
  },
  {
   "cell_type": "code",
   "execution_count": 21,
   "id": "482fbaae",
   "metadata": {},
   "outputs": [
    {
     "name": "stdout",
     "output_type": "stream",
     "text": [
      "42\n"
     ]
    }
   ],
   "source": [
    "string = \"Hum honge kamyab, hum honge kamyab aik din\"\n",
    "\n",
    "print(len(string))\n",
    "\n"
   ]
  },
  {
   "cell_type": "code",
   "execution_count": 22,
   "id": "dce90b03",
   "metadata": {},
   "outputs": [
    {
     "name": "stdout",
     "output_type": "stream",
     "text": [
      "Hum honge kamyab, hum honge kamyab aik din\n",
      ",\n"
     ]
    }
   ],
   "source": [
    "print(string)\n",
    "\n",
    "print(string[16])"
   ]
  },
  {
   "cell_type": "code",
   "execution_count": 23,
   "id": "495e3731",
   "metadata": {},
   "outputs": [
    {
     "name": "stdout",
     "output_type": "stream",
     "text": [
      "aik din\n",
      "honge kamyab\n"
     ]
    }
   ],
   "source": [
    "print(string[35:42])\n",
    "\n",
    "print(string[4:16])"
   ]
  },
  {
   "cell_type": "code",
   "execution_count": 24,
   "id": "313c2931",
   "metadata": {},
   "outputs": [
    {
     "name": "stdout",
     "output_type": "stream",
     "text": [
      "0\n",
      "1\n"
     ]
    }
   ],
   "source": [
    "print(st.index(\"Hum\"))\n",
    "\n",
    "print(st.count(\"hum\"))\n"
   ]
  },
  {
   "cell_type": "code",
   "execution_count": 25,
   "id": "28b66ef0",
   "metadata": {},
   "outputs": [
    {
     "name": "stdout",
     "output_type": "stream",
     "text": [
      "False\n",
      "true\n"
     ]
    }
   ],
   "source": [
    "if 'LALALA' in string:\n",
    "    print(\"true\")\n",
    "else:\n",
    "    print(\"False\")\n",
    "\n",
    "if ',' in string:\n",
    "    print(\"true\")\n",
    "else:\n",
    "    print(\"False\")\n"
   ]
  },
  {
   "cell_type": "code",
   "execution_count": 26,
   "id": "ae157ae6",
   "metadata": {},
   "outputs": [
    {
     "name": "stdout",
     "output_type": "stream",
     "text": [
      "aik din\n",
      "kamyab\n"
     ]
    }
   ],
   "source": [
    "print(string[35:])\n",
    "\n",
    "print(string[-14:-8])"
   ]
  },
  {
   "cell_type": "code",
   "execution_count": 27,
   "id": "943715f6",
   "metadata": {},
   "outputs": [
    {
     "name": "stdout",
     "output_type": "stream",
     "text": [
      "Boom: SanDisk just dropped the world’s largest SD card\n",
      "54\n",
      "SD card\n"
     ]
    }
   ],
   "source": [
    "string = \"Boom: SanDisk just dropped the world’s largest SD card\"\n",
    "copymessage = string\n",
    "\n",
    "print(copymessage[0:])\n",
    "\n",
    "print(len(string))\n",
    "\n",
    "print(string[47:54])"
   ]
  },
  {
   "cell_type": "code",
   "execution_count": 28,
   "id": "160b0f57",
   "metadata": {},
   "outputs": [
    {
     "name": "stdout",
     "output_type": "stream",
     "text": [
      "not found \n"
     ]
    }
   ],
   "source": [
    "if \"1TB\" in string:\n",
    "    print(\" found \")\n",
    "else:\n",
    "    print(\"not found \")\n"
   ]
  },
  {
   "cell_type": "code",
   "execution_count": null,
   "id": "394f4a8d",
   "metadata": {},
   "outputs": [],
   "source": [
    "\n"
   ]
  },
  {
   "cell_type": "code",
   "execution_count": 29,
   "id": "564fc6ce",
   "metadata": {},
   "outputs": [
    {
     "name": "stdout",
     "output_type": "stream",
     "text": [
      " the world’\n"
     ]
    }
   ],
   "source": [
    "randmString=\" \"\n",
    "size = len(string)//2\n",
    "for i in range(size , 37):\n",
    "    randmString = randmString+string[i]\n",
    "print(randmString)\n",
    "\n"
   ]
  },
  {
   "cell_type": "code",
   "execution_count": 30,
   "id": "6eb7a41e",
   "metadata": {},
   "outputs": [
    {
     "name": "stdout",
     "output_type": "stream",
     "text": [
      "Boom: SanDisk just dropped the world’s largest SD cardBoom: SanDisk just dropped the world’s largest SD card\n",
      "Boom:*SanDisk*just*dropped*the*world’s*largest*SD*cardBoom:*SanDisk*just*dropped*the*world’s*largest*SD*card\n"
     ]
    }
   ],
   "source": [
    "s = string *2\n",
    "print(s)\n",
    "s1 = s.replace(' ', '*')\n",
    "\n",
    "print(s1)"
   ]
  },
  {
   "cell_type": "code",
   "execution_count": null,
   "id": "b0c5dae0",
   "metadata": {},
   "outputs": [],
   "source": []
  }
 ],
 "metadata": {
  "kernelspec": {
   "display_name": "Python 3",
   "language": "python",
   "name": "python3"
  },
  "language_info": {
   "codemirror_mode": {
    "name": "ipython",
    "version": 3
   },
   "file_extension": ".py",
   "mimetype": "text/x-python",
   "name": "python",
   "nbconvert_exporter": "python",
   "pygments_lexer": "ipython3",
   "version": "3.8.8"
  }
 },
 "nbformat": 4,
 "nbformat_minor": 5
}
